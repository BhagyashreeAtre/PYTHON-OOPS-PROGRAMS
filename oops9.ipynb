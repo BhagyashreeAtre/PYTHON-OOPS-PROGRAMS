{
 "cells": [
  {
   "cell_type": "code",
   "execution_count": 8,
   "metadata": {},
   "outputs": [],
   "source": [
    "#Multiple inheritance\n",
    "class Employee:\n",
    "    no_of_leaves=8\n",
    "    var=9\n",
    "    def __init__(self,aname,asalary,arole):\n",
    "        self.name=aname\n",
    "        self.salary=asalary\n",
    "        self.role=arole\n",
    "    def printdetails(self):\n",
    "        return f\"Name is {self.name}.Salary is {self.salary} and role is {self.role}\"\n",
    "    @classmethod\n",
    "    def change_leaves(cls,newleaves):\n",
    "        cls.no_of_leaves=newleaves\n",
    "    @classmethod\n",
    "    def from_dash(cls,string):\n",
    "        #params=string.split(\"-\")\n",
    "        #return cls(params[0],params[1],params[2])\n",
    "        return cls(*string.split(\"-\"))\n",
    "    @staticmethod\n",
    "    def printgood(string):\n",
    "         print(\"This is good \"+string)\n",
    "\n",
    "class Player:\n",
    "    no_of_games=4\n",
    "    var=8\n",
    "    def __init__(self,name,game):\n",
    "        self.name=name\n",
    "        self.game=game\n",
    "    def printdetails(self):\n",
    "        return f\"Name is {self.name}.Game is {self.game}\"\n",
    "\n",
    "class CoolProgrammer(Employee,Player):\n",
    "    language=\"c++\"\n",
    "    def printlanguage(self):\n",
    "        print(self.language)\n",
    "        \n",
    "\n",
    "harry=Employee(\"Harry\",455,\"Instructor\")\n",
    "rohan=Employee(\"Rohan\",4555,\"manager\")\n",
    "\n",
    "shubham=Player(\"shubham\",[\"cricket\"])\n",
    "\n",
    "karan=CoolProgrammer(\"karan\",67675,\"coolprogrammer\")\n",
    "print(karan.printlanguage())\n",
    "\n"
   ]
  },
  {
   "cell_type": "code",
   "execution_count": null,
   "metadata": {},
   "outputs": [],
   "source": []
  }
 ],
 "metadata": {
  "kernelspec": {
   "display_name": "Python 3",
   "language": "python",
   "name": "python3"
  },
  "language_info": {
   "codemirror_mode": {
    "name": "ipython",
    "version": 3
   },
   "file_extension": ".py",
   "mimetype": "text/x-python",
   "name": "python",
   "nbconvert_exporter": "python",
   "pygments_lexer": "ipython3",
   "version": "3.8.5"
  }
 },
 "nbformat": 4,
 "nbformat_minor": 4
}
