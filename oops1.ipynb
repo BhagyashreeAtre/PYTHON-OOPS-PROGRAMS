{
 "cells": [
  {
   "cell_type": "code",
   "execution_count": 5,
   "metadata": {},
   "outputs": [
    {
     "name": "stdout",
     "output_type": "stream",
     "text": [
      "['physics', 'english']\n",
      "9\n",
      "Harry\n"
     ]
    }
   ],
   "source": [
    "#classes-Template-particular ready pattern\n",
    "#object-instance of the class\n",
    "#DRY-Don not repeat yourself\n",
    "class Student:\n",
    "    pass  #blank template\n",
    "\n",
    "harry=Student()   #harry,larry are 2 different objects of class Student\n",
    "larry=Student()\n",
    "\n",
    "harry.name=\"Harry\"\n",
    "harry.std=12\n",
    "harry.section=1\n",
    "larry.std=9\n",
    "larry.subjects=[\"physics\",\"english\"]\n",
    "print(larry.subjects)\n",
    "print(larry.std)\n",
    "print(harry.name)\n",
    "#print(harry.std)\n",
    "#print(harry.section)"
   ]
  },
  {
   "cell_type": "code",
   "execution_count": null,
   "metadata": {},
   "outputs": [],
   "source": []
  }
 ],
 "metadata": {
  "kernelspec": {
   "display_name": "Python 3",
   "language": "python",
   "name": "python3"
  },
  "language_info": {
   "codemirror_mode": {
    "name": "ipython",
    "version": 3
   },
   "file_extension": ".py",
   "mimetype": "text/x-python",
   "name": "python",
   "nbconvert_exporter": "python",
   "pygments_lexer": "ipython3",
   "version": "3.8.5"
  }
 },
 "nbformat": 4,
 "nbformat_minor": 4
}
