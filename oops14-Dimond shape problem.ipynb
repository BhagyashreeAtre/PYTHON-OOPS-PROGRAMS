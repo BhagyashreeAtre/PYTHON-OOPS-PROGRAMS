{
 "cells": [
  {
   "cell_type": "code",
   "execution_count": 1,
   "metadata": {},
   "outputs": [],
   "source": [
    "class A:\n",
    "    def met(self):\n",
    "        print(\"This is a method from class A\")\n",
    "class B(A):\n",
    "    def met(self):\n",
    "        print(\"This is a method from class B\")\n",
    "class C(A):\n",
    "    def met(self):\n",
    "        print(\"This is a method from class c\")\n",
    "class D(B,C):\n",
    "    def met(self):\n",
    "        print(\"This is a method from class D\")\n",
    "\n",
    "a=A()\n",
    "b=B()\n",
    "c=C()\n",
    "d=D()\n"
   ]
  },
  {
   "cell_type": "code",
   "execution_count": null,
   "metadata": {},
   "outputs": [],
   "source": []
  }
 ],
 "metadata": {
  "kernelspec": {
   "display_name": "Python 3",
   "language": "python",
   "name": "python3"
  },
  "language_info": {
   "codemirror_mode": {
    "name": "ipython",
    "version": 3
   },
   "file_extension": ".py",
   "mimetype": "text/x-python",
   "name": "python",
   "nbconvert_exporter": "python",
   "pygments_lexer": "ipython3",
   "version": "3.8.5"
  }
 },
 "nbformat": 4,
 "nbformat_minor": 4
}
