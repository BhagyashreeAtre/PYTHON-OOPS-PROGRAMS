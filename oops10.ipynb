{
 "cells": [
  {
   "cell_type": "code",
   "execution_count": 3,
   "metadata": {},
   "outputs": [
    {
     "name": "stdout",
     "output_type": "stream",
     "text": [
      "1\n"
     ]
    }
   ],
   "source": [
    "class Dad:\n",
    "    basketball=1\n",
    "class Son(Dad):\n",
    "    dance=1\n",
    "    def isdance(self):\n",
    "        return f\"Yes I dance{self.dance} no of times\"\n",
    "\n",
    "class Grandson(Son):\n",
    "    dance=6\n",
    "    def isdance(self):\n",
    "        return f\"Jackson!\\Yes I dance{self.dance} no of times\"\n",
    "    \n",
    "darry=Dad()\n",
    "larry=Son()\n",
    "harry=Grandson()\n",
    "\n",
    "print(harry.basketball)"
   ]
  },
  {
   "cell_type": "code",
   "execution_count": 8,
   "metadata": {},
   "outputs": [
    {
     "name": "stdout",
     "output_type": "stream",
     "text": [
      "5\n",
      "8\n",
      "9\n",
      "1\n",
      "1\n",
      "yes\n"
     ]
    }
   ],
   "source": [
    "#3 classes- electronic device,pocket gadget,phone\n",
    "class electronicdevices:\n",
    "        motherboard = 1\n",
    "        circuit = 5\n",
    "\n",
    "class pocketgadget(electronicdevices):\n",
    "        GPS = 1\n",
    "        circuit = 8\n",
    "        time = \"yes\"\n",
    "\n",
    "class Smartphone(pocketgadget):\n",
    "        screentouch = 1\n",
    "        circuit = 9\n",
    "        GPU = 1\n",
    "        CPU = 1\n",
    "\n",
    "TV = electronicdevices()\n",
    "ipod = pocketgadget()\n",
    "apple = Smartphone()\n",
    "print(TV.circuit)\n",
    "print(ipod.circuit)\n",
    "print(apple.circuit)\n",
    "print(apple.motherboard)\n",
    "print(apple.GPS)\n",
    "print(apple.time)"
   ]
  },
  {
   "cell_type": "code",
   "execution_count": null,
   "metadata": {},
   "outputs": [],
   "source": []
  }
 ],
 "metadata": {
  "kernelspec": {
   "display_name": "Python 3",
   "language": "python",
   "name": "python3"
  },
  "language_info": {
   "codemirror_mode": {
    "name": "ipython",
    "version": 3
   },
   "file_extension": ".py",
   "mimetype": "text/x-python",
   "name": "python",
   "nbconvert_exporter": "python",
   "pygments_lexer": "ipython3",
   "version": "3.8.5"
  }
 },
 "nbformat": 4,
 "nbformat_minor": 4
}
