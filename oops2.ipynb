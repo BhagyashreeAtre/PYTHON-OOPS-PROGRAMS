{
 "cells": [
  {
   "cell_type": "code",
   "execution_count": 3,
   "metadata": {},
   "outputs": [
    {
     "name": "stdout",
     "output_type": "stream",
     "text": [
      "455\n",
      "8\n",
      "8\n",
      "{'name': 'Rohan', 'salary': 4554, 'role': 'student'}\n",
      "{'name': 'Rohan', 'salary': 4554, 'role': 'student', 'no_of_leaves': 9}\n",
      "9\n"
     ]
    }
   ],
   "source": [
    "class Employee:\n",
    "    no_of_leaves=8   #class variable\n",
    "    pass\n",
    "harry=Employee()\n",
    "rohan=Employee()\n",
    "\n",
    "harry.name=\"Harry\"\n",
    "harry.salary=455\n",
    "harry.role=\"Instructor\"\n",
    "\n",
    "rohan.name=\"Rohan\"\n",
    "rohan.salary=4554\n",
    "rohan.role=\"student\"\n",
    "\n",
    "print(harry.salary)\n",
    "print(harry.no_of_leaves)\n",
    "print(Employee.no_of_leaves)\n",
    "print(rohan.__dict__)\n",
    "rohan.no_of_leaves=9   #instance variable\n",
    "print(rohan.__dict__)\n",
    "Employee.no_of_leaves=9\n",
    "print(Employee.no_of_leaves)"
   ]
  },
  {
   "cell_type": "code",
   "execution_count": null,
   "metadata": {},
   "outputs": [],
   "source": []
  }
 ],
 "metadata": {
  "kernelspec": {
   "display_name": "Python 3",
   "language": "python",
   "name": "python3"
  },
  "language_info": {
   "codemirror_mode": {
    "name": "ipython",
    "version": 3
   },
   "file_extension": ".py",
   "mimetype": "text/x-python",
   "name": "python",
   "nbconvert_exporter": "python",
   "pygments_lexer": "ipython3",
   "version": "3.8.5"
  }
 },
 "nbformat": 4,
 "nbformat_minor": 4
}
