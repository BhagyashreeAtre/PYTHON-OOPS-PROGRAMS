{
 "cells": [
  {
   "cell_type": "code",
   "execution_count": 5,
   "metadata": {},
   "outputs": [
    {
     "name": "stdout",
     "output_type": "stream",
     "text": [
      "special\n"
     ]
    }
   ],
   "source": [
    "class A:\n",
    "    clasvar1=\"I am class variable in class A\"\n",
    "    def __init__(self):\n",
    "        self.var1=\"I am inside class A's constructor\"\n",
    "        self.classvar1=\"Instance var in class A\"\n",
    "        self.special=\"special\"\n",
    "class B(A):\n",
    "    classvar1=\"I am in class B\"\n",
    "    def __init__(self):\n",
    "        super().__init__()\n",
    "        self.var1=\"I am inside class A's constructor\"\n",
    "        self.classvar1=\"Instance var in class B\"\n",
    "    \n",
    "a=A()\n",
    "b=B()\n",
    "print(b.special)"
   ]
  },
  {
   "cell_type": "code",
   "execution_count": null,
   "metadata": {},
   "outputs": [],
   "source": []
  }
 ],
 "metadata": {
  "kernelspec": {
   "display_name": "Python 3",
   "language": "python",
   "name": "python3"
  },
  "language_info": {
   "codemirror_mode": {
    "name": "ipython",
    "version": 3
   },
   "file_extension": ".py",
   "mimetype": "text/x-python",
   "name": "python",
   "nbconvert_exporter": "python",
   "pygments_lexer": "ipython3",
   "version": "3.8.5"
  }
 },
 "nbformat": 4,
 "nbformat_minor": 4
}
