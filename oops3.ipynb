{
 "cells": [
  {
   "cell_type": "code",
   "execution_count": 3,
   "metadata": {},
   "outputs": [
    {
     "name": "stdout",
     "output_type": "stream",
     "text": [
      "Name is Rohan.Salary is 4554 and role is student\n",
      "Name is Harry.Salary is 455 and role is Instructor\n"
     ]
    }
   ],
   "source": [
    "class Employee:\n",
    "    no_of_leaves=8\n",
    "    def printdetails(self):\n",
    "        return f\"Name is {self.name}.Salary is {self.salary} and role is {self.role}\"\n",
    "        \n",
    "harry=Employee()\n",
    "rohan=Employee()\n",
    "\n",
    "harry.name=\"Harry\"\n",
    "harry.salary=455\n",
    "harry.role=\"Instructor\"\n",
    "\n",
    "rohan.name=\"Rohan\"\n",
    "rohan.salary=4554\n",
    "rohan.role=\"student\"\n",
    "\n",
    "\n",
    "print(rohan.printdetails())\n",
    "print(harry.printdetails())"
   ]
  },
  {
   "cell_type": "code",
   "execution_count": 5,
   "metadata": {},
   "outputs": [
    {
     "name": "stdout",
     "output_type": "stream",
     "text": [
      "455\n"
     ]
    }
   ],
   "source": [
    "#constructor:__init__\n",
    "class Employee:\n",
    "    no_of_leaves=8\n",
    "    def __init__(self,aname,asalary,arole):\n",
    "        self.name=aname\n",
    "        self.salary=asalary\n",
    "        self.role=arole\n",
    "    def printdetails(self):\n",
    "        return f\"Name is {self.name}.Salary is {self.salary} and role is {self.role}\"\n",
    "        \n",
    "harry=Employee(\"Harry\",455,\"Instructor\")\n",
    "rohan=Employee(\"Rohan\",4555,\"manager\")\n",
    "\n",
    "print(harry.salary)"
   ]
  },
  {
   "cell_type": "code",
   "execution_count": 9,
   "metadata": {},
   "outputs": [
    {
     "name": "stdout",
     "output_type": "stream",
     "text": [
      "Name is bhagyashree.Roll number is 8614.Marks are 99\n"
     ]
    }
   ],
   "source": [
    "#student details using oops concept\n",
    "\n",
    "\n",
    "class student:\n",
    "    def __init__(self,aname,aroll,amarks):\n",
    "        self.name=aname\n",
    "        self.roll=aroll\n",
    "        self.marks=amarks\n",
    "    def printdetails(self):\n",
    "        return f\"Name is {self.name}.Roll number is {self.roll}.Marks are {self.marks}\"\n",
    "    \n",
    "bhagya=student(\"bhagyashree\",8614,99)\n",
    "#print(bhagya.name)\n",
    "#print(bhagya.roll)\n",
    "#print(bhagya.marks)\n",
    "print(bhagya.printdetails())   "
   ]
  },
  {
   "cell_type": "code",
   "execution_count": 11,
   "metadata": {},
   "outputs": [
    {
     "name": "stdout",
     "output_type": "stream",
     "text": [
      "Enter your name:bhagyashree\n",
      "Enter your roll number:8614\n",
      "Enter your marks:99\n",
      "Name is bhagyashree.Roll number is 8614.Marks are 99\n"
     ]
    }
   ],
   "source": [
    "class student:\n",
    "    def __init__(self,aname,aroll,amarks):\n",
    "        self.name=aname\n",
    "        self.roll=aroll\n",
    "        self.marks=amarks\n",
    "    def printdetails(self):\n",
    "        return f\"Name is {self.name}.Roll number is {self.roll}.Marks are {self.marks}\"\n",
    "    \n",
    "nam=input(\"Enter your name:\")\n",
    "ro=int(input(\"Enter your roll number:\"))\n",
    "ma=int(input(\"Enter your marks:\"))\n",
    "bhagya=student(nam,ro,ma)\n",
    "\n",
    "print(bhagya.printdetails())   "
   ]
  },
  {
   "cell_type": "code",
   "execution_count": null,
   "metadata": {},
   "outputs": [],
   "source": []
  }
 ],
 "metadata": {
  "kernelspec": {
   "display_name": "Python 3",
   "language": "python",
   "name": "python3"
  },
  "language_info": {
   "codemirror_mode": {
    "name": "ipython",
    "version": 3
   },
   "file_extension": ".py",
   "mimetype": "text/x-python",
   "name": "python",
   "nbconvert_exporter": "python",
   "pygments_lexer": "ipython3",
   "version": "3.8.5"
  }
 },
 "nbformat": 4,
 "nbformat_minor": 4
}
