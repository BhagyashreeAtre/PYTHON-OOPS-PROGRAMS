{
 "cells": [
  {
   "cell_type": "code",
   "execution_count": 6,
   "metadata": {},
   "outputs": [
    {
     "name": "stdout",
     "output_type": "stream",
     "text": [
      "34\n"
     ]
    }
   ],
   "source": [
    "class Employee:\n",
    "    no_of_leaves=8\n",
    "    def __init__(self,aname,asalary,arole):\n",
    "        self.name=aname\n",
    "        self.salary=asalary\n",
    "        self.role=arole\n",
    "    def printdetails(self):\n",
    "        return f\"Name is {self.name}.Salary is {self.salary} and role is {self.role}\"\n",
    "    @classmethod\n",
    "    def change_leaves(cls,newleaves):\n",
    "        cls.no_of_leaves=newleaves\n",
    "            \n",
    "\n",
    "harry=Employee(\"Harry\",455,\"Instructor\")\n",
    "rohan=Employee(\"Rohan\",4555,\"manager\")\n",
    "harry.change_leaves(34)\n",
    "print(harry.no_of_leaves)\n",
    "\n"
   ]
  },
  {
   "cell_type": "code",
   "execution_count": 11,
   "metadata": {},
   "outputs": [
    {
     "name": "stdout",
     "output_type": "stream",
     "text": [
      "30\n"
     ]
    }
   ],
   "source": [
    "class student:\n",
    "    no_of_holidays=15\n",
    "    def __init__(self,aname,aroll,amarks):\n",
    "        self.name=aname\n",
    "        self.roll=aroll\n",
    "        self.marks=amarks\n",
    "    def printdetails(self):\n",
    "        return f\"Name is {self.name}.Roll number is {self.roll}.Marks are {self.marks}\"\n",
    "    @classmethod\n",
    "    def change_holidays(cls,newholiday):\n",
    "        cls.no_of_holidays=newholiday\n",
    "    \n",
    "bhagya=student(\"bhagyashree\",8614,99)\n",
    "bhagya.change_holidays(30)\n",
    "print(bhagya.no_of_holidays)"
   ]
  },
  {
   "cell_type": "code",
   "execution_count": null,
   "metadata": {},
   "outputs": [],
   "source": []
  }
 ],
 "metadata": {
  "kernelspec": {
   "display_name": "Python 3",
   "language": "python",
   "name": "python3"
  },
  "language_info": {
   "codemirror_mode": {
    "name": "ipython",
    "version": 3
   },
   "file_extension": ".py",
   "mimetype": "text/x-python",
   "name": "python",
   "nbconvert_exporter": "python",
   "pygments_lexer": "ipython3",
   "version": "3.8.5"
  }
 },
 "nbformat": 4,
 "nbformat_minor": 4
}
