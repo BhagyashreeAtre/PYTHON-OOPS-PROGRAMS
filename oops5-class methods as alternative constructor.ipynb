{
 "cells": [
  {
   "cell_type": "code",
   "execution_count": 4,
   "metadata": {},
   "outputs": [
    {
     "name": "stdout",
     "output_type": "stream",
     "text": [
      "408\n",
      "8\n"
     ]
    }
   ],
   "source": [
    "class Employee:\n",
    "    no_of_leaves=8\n",
    "    def __init__(self,aname,asalary,arole):\n",
    "        self.name=aname\n",
    "        self.salary=asalary\n",
    "        self.role=arole\n",
    "    def printdetails(self):\n",
    "        return f\"Name is {self.name}.Salary is {self.salary} and role is {self.role}\"\n",
    "    @classmethod\n",
    "    def change_leaves(cls,newleaves):\n",
    "        cls.no_of_leaves=newleaves\n",
    "    @classmethod\n",
    "    def from_dash(cls,string):\n",
    "        #params=string.split(\"-\")\n",
    "        #return cls(params[0],params[1],params[2])\n",
    "        return cls(*string.split(\"-\"))\n",
    "            \n",
    "\n",
    "harry=Employee(\"Harry\",455,\"Instructor\")\n",
    "rohan=Employee(\"Rohan\",4555,\"manager\")\n",
    "anuja=Employee.from_dash(\"Karan-408-student\")\n",
    "print(anuja.salary)\n",
    "print(anuja.no_of_leaves)\n",
    "#harry.change_leaves(34)\n",
    "#print(harry.no_of_leaves)\n",
    "\n"
   ]
  },
  {
   "cell_type": "code",
   "execution_count": null,
   "metadata": {},
   "outputs": [],
   "source": []
  }
 ],
 "metadata": {
  "kernelspec": {
   "display_name": "Python 3",
   "language": "python",
   "name": "python3"
  },
  "language_info": {
   "codemirror_mode": {
    "name": "ipython",
    "version": 3
   },
   "file_extension": ".py",
   "mimetype": "text/x-python",
   "name": "python",
   "nbconvert_exporter": "python",
   "pygments_lexer": "ipython3",
   "version": "3.8.5"
  }
 },
 "nbformat": 4,
 "nbformat_minor": 4
}
